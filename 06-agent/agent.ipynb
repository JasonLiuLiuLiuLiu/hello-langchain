{
 "cells": [
  {
   "cell_type": "code",
   "execution_count": 2,
   "metadata": {},
   "outputs": [
    {
     "name": "stdout",
     "output_type": "stream",
     "text": [
      "Collecting langchain-community\n",
      "  Downloading langchain_community-0.3.12-py3-none-any.whl.metadata (2.9 kB)\n",
      "Requirement already satisfied: langgraph in c:\\users\\liuzh\\anaconda3\\lib\\site-packages (0.2.59)\n",
      "Collecting langchain-anthropic\n",
      "  Downloading langchain_anthropic-0.3.0-py3-none-any.whl.metadata (2.3 kB)\n",
      "Collecting tavily-python\n",
      "  Downloading tavily_python-0.5.0-py3-none-any.whl.metadata (11 kB)\n",
      "Collecting langgraph-checkpoint-sqlite\n",
      "  Downloading langgraph_checkpoint_sqlite-2.0.1-py3-none-any.whl.metadata (3.0 kB)\n",
      "Requirement already satisfied: PyYAML>=5.3 in c:\\users\\liuzh\\anaconda3\\lib\\site-packages (from langchain-community) (6.0.1)\n",
      "Requirement already satisfied: SQLAlchemy<3,>=1.4 in c:\\users\\liuzh\\anaconda3\\lib\\site-packages (from langchain-community) (2.0.34)\n",
      "Requirement already satisfied: aiohttp<4.0.0,>=3.8.3 in c:\\users\\liuzh\\anaconda3\\lib\\site-packages (from langchain-community) (3.10.5)\n",
      "Collecting dataclasses-json<0.7,>=0.5.7 (from langchain-community)\n",
      "  Downloading dataclasses_json-0.6.7-py3-none-any.whl.metadata (25 kB)\n",
      "Collecting httpx-sse<0.5.0,>=0.4.0 (from langchain-community)\n",
      "  Downloading httpx_sse-0.4.0-py3-none-any.whl.metadata (9.0 kB)\n",
      "Collecting langchain<0.4.0,>=0.3.12 (from langchain-community)\n",
      "  Downloading langchain-0.3.12-py3-none-any.whl.metadata (7.1 kB)\n",
      "Requirement already satisfied: langchain-core<0.4.0,>=0.3.25 in c:\\users\\liuzh\\anaconda3\\lib\\site-packages (from langchain-community) (0.3.25)\n",
      "Requirement already satisfied: langsmith<0.3,>=0.1.125 in c:\\users\\liuzh\\anaconda3\\lib\\site-packages (from langchain-community) (0.2.3)\n",
      "Requirement already satisfied: numpy<3,>=1.26.2 in c:\\users\\liuzh\\anaconda3\\lib\\site-packages (from langchain-community) (1.26.4)\n",
      "Collecting pydantic-settings<3.0.0,>=2.4.0 (from langchain-community)\n",
      "  Downloading pydantic_settings-2.7.0-py3-none-any.whl.metadata (3.5 kB)\n",
      "Requirement already satisfied: requests<3,>=2 in c:\\users\\liuzh\\anaconda3\\lib\\site-packages (from langchain-community) (2.32.3)\n",
      "Requirement already satisfied: tenacity!=8.4.0,<10,>=8.1.0 in c:\\users\\liuzh\\anaconda3\\lib\\site-packages (from langchain-community) (8.2.3)\n",
      "Requirement already satisfied: langgraph-checkpoint<3.0.0,>=2.0.4 in c:\\users\\liuzh\\anaconda3\\lib\\site-packages (from langgraph) (2.0.9)\n",
      "Requirement already satisfied: langgraph-sdk<0.2.0,>=0.1.42 in c:\\users\\liuzh\\anaconda3\\lib\\site-packages (from langgraph) (0.1.45)\n",
      "Collecting anthropic<1,>=0.39.0 (from langchain-anthropic)\n",
      "  Downloading anthropic-0.40.0-py3-none-any.whl.metadata (23 kB)\n",
      "Requirement already satisfied: defusedxml<0.8.0,>=0.7.1 in c:\\users\\liuzh\\anaconda3\\lib\\site-packages (from langchain-anthropic) (0.7.1)\n",
      "Requirement already satisfied: pydantic<3.0.0,>=2.7.4 in c:\\users\\liuzh\\anaconda3\\lib\\site-packages (from langchain-anthropic) (2.8.2)\n",
      "Requirement already satisfied: tiktoken>=0.5.1 in c:\\users\\liuzh\\anaconda3\\lib\\site-packages (from tavily-python) (0.8.0)\n",
      "Requirement already satisfied: httpx in c:\\users\\liuzh\\anaconda3\\lib\\site-packages (from tavily-python) (0.27.0)\n",
      "Collecting aiosqlite<0.21.0,>=0.20.0 (from langgraph-checkpoint-sqlite)\n",
      "  Downloading aiosqlite-0.20.0-py3-none-any.whl.metadata (4.3 kB)\n",
      "Requirement already satisfied: aiohappyeyeballs>=2.3.0 in c:\\users\\liuzh\\anaconda3\\lib\\site-packages (from aiohttp<4.0.0,>=3.8.3->langchain-community) (2.4.0)\n",
      "Requirement already satisfied: aiosignal>=1.1.2 in c:\\users\\liuzh\\anaconda3\\lib\\site-packages (from aiohttp<4.0.0,>=3.8.3->langchain-community) (1.2.0)\n",
      "Requirement already satisfied: attrs>=17.3.0 in c:\\users\\liuzh\\anaconda3\\lib\\site-packages (from aiohttp<4.0.0,>=3.8.3->langchain-community) (23.1.0)\n",
      "Requirement already satisfied: frozenlist>=1.1.1 in c:\\users\\liuzh\\anaconda3\\lib\\site-packages (from aiohttp<4.0.0,>=3.8.3->langchain-community) (1.4.0)\n",
      "Requirement already satisfied: multidict<7.0,>=4.5 in c:\\users\\liuzh\\anaconda3\\lib\\site-packages (from aiohttp<4.0.0,>=3.8.3->langchain-community) (6.0.4)\n",
      "Requirement already satisfied: yarl<2.0,>=1.0 in c:\\users\\liuzh\\anaconda3\\lib\\site-packages (from aiohttp<4.0.0,>=3.8.3->langchain-community) (1.11.0)\n",
      "Requirement already satisfied: typing_extensions>=4.0 in c:\\users\\liuzh\\anaconda3\\lib\\site-packages (from aiosqlite<0.21.0,>=0.20.0->langgraph-checkpoint-sqlite) (4.11.0)\n",
      "Requirement already satisfied: anyio<5,>=3.5.0 in c:\\users\\liuzh\\anaconda3\\lib\\site-packages (from anthropic<1,>=0.39.0->langchain-anthropic) (4.2.0)\n",
      "Requirement already satisfied: distro<2,>=1.7.0 in c:\\users\\liuzh\\anaconda3\\lib\\site-packages (from anthropic<1,>=0.39.0->langchain-anthropic) (1.9.0)\n",
      "Requirement already satisfied: jiter<1,>=0.4.0 in c:\\users\\liuzh\\anaconda3\\lib\\site-packages (from anthropic<1,>=0.39.0->langchain-anthropic) (0.8.2)\n",
      "Requirement already satisfied: sniffio in c:\\users\\liuzh\\anaconda3\\lib\\site-packages (from anthropic<1,>=0.39.0->langchain-anthropic) (1.3.0)\n",
      "Collecting marshmallow<4.0.0,>=3.18.0 (from dataclasses-json<0.7,>=0.5.7->langchain-community)\n",
      "  Downloading marshmallow-3.23.1-py3-none-any.whl.metadata (7.5 kB)\n",
      "Collecting typing-inspect<1,>=0.4.0 (from dataclasses-json<0.7,>=0.5.7->langchain-community)\n",
      "  Downloading typing_inspect-0.9.0-py3-none-any.whl.metadata (1.5 kB)\n",
      "Requirement already satisfied: certifi in c:\\users\\liuzh\\anaconda3\\lib\\site-packages (from httpx->tavily-python) (2024.8.30)\n",
      "Requirement already satisfied: httpcore==1.* in c:\\users\\liuzh\\anaconda3\\lib\\site-packages (from httpx->tavily-python) (1.0.2)\n",
      "Requirement already satisfied: idna in c:\\users\\liuzh\\anaconda3\\lib\\site-packages (from httpx->tavily-python) (3.7)\n",
      "Requirement already satisfied: h11<0.15,>=0.13 in c:\\users\\liuzh\\anaconda3\\lib\\site-packages (from httpcore==1.*->httpx->tavily-python) (0.14.0)\n",
      "Collecting langchain-text-splitters<0.4.0,>=0.3.3 (from langchain<0.4.0,>=0.3.12->langchain-community)\n",
      "  Downloading langchain_text_splitters-0.3.3-py3-none-any.whl.metadata (2.3 kB)\n",
      "Requirement already satisfied: jsonpatch<2.0,>=1.33 in c:\\users\\liuzh\\anaconda3\\lib\\site-packages (from langchain-core<0.4.0,>=0.3.25->langchain-community) (1.33)\n",
      "Requirement already satisfied: packaging<25,>=23.2 in c:\\users\\liuzh\\anaconda3\\lib\\site-packages (from langchain-core<0.4.0,>=0.3.25->langchain-community) (24.1)\n",
      "Requirement already satisfied: msgpack<2.0.0,>=1.1.0 in c:\\users\\liuzh\\anaconda3\\lib\\site-packages (from langgraph-checkpoint<3.0.0,>=2.0.4->langgraph) (1.1.0)\n",
      "Requirement already satisfied: orjson>=3.10.1 in c:\\users\\liuzh\\anaconda3\\lib\\site-packages (from langgraph-sdk<0.2.0,>=0.1.42->langgraph) (3.10.12)\n",
      "Requirement already satisfied: requests-toolbelt<2.0.0,>=1.0.0 in c:\\users\\liuzh\\anaconda3\\lib\\site-packages (from langsmith<0.3,>=0.1.125->langchain-community) (1.0.0)\n",
      "Requirement already satisfied: annotated-types>=0.4.0 in c:\\users\\liuzh\\anaconda3\\lib\\site-packages (from pydantic<3.0.0,>=2.7.4->langchain-anthropic) (0.6.0)\n",
      "Requirement already satisfied: pydantic-core==2.20.1 in c:\\users\\liuzh\\anaconda3\\lib\\site-packages (from pydantic<3.0.0,>=2.7.4->langchain-anthropic) (2.20.1)\n",
      "Requirement already satisfied: python-dotenv>=0.21.0 in c:\\users\\liuzh\\anaconda3\\lib\\site-packages (from pydantic-settings<3.0.0,>=2.4.0->langchain-community) (0.21.0)\n",
      "Requirement already satisfied: charset-normalizer<4,>=2 in c:\\users\\liuzh\\anaconda3\\lib\\site-packages (from requests<3,>=2->langchain-community) (3.3.2)\n",
      "Requirement already satisfied: urllib3<3,>=1.21.1 in c:\\users\\liuzh\\anaconda3\\lib\\site-packages (from requests<3,>=2->langchain-community) (2.2.3)\n",
      "Requirement already satisfied: greenlet!=0.4.17 in c:\\users\\liuzh\\anaconda3\\lib\\site-packages (from SQLAlchemy<3,>=1.4->langchain-community) (3.0.1)\n",
      "Requirement already satisfied: regex>=2022.1.18 in c:\\users\\liuzh\\anaconda3\\lib\\site-packages (from tiktoken>=0.5.1->tavily-python) (2024.9.11)\n",
      "Requirement already satisfied: jsonpointer>=1.9 in c:\\users\\liuzh\\anaconda3\\lib\\site-packages (from jsonpatch<2.0,>=1.33->langchain-core<0.4.0,>=0.3.25->langchain-community) (2.1)\n",
      "Requirement already satisfied: mypy-extensions>=0.3.0 in c:\\users\\liuzh\\anaconda3\\lib\\site-packages (from typing-inspect<1,>=0.4.0->dataclasses-json<0.7,>=0.5.7->langchain-community) (1.0.0)\n",
      "Downloading langchain_community-0.3.12-py3-none-any.whl (2.5 MB)\n",
      "   ---------------------------------------- 0.0/2.5 MB ? eta -:--:--\n",
      "   ---------------------------------------- 0.0/2.5 MB ? eta -:--:--\n",
      "   ---------------------------------------- 0.0/2.5 MB ? eta -:--:--\n",
      "   ---- ----------------------------------- 0.3/2.5 MB ? eta -:--:--\n",
      "   ---------------- ----------------------- 1.0/2.5 MB 2.6 MB/s eta 0:00:01\n",
      "   ---------------------------------------- 2.5/2.5 MB 4.6 MB/s eta 0:00:00\n",
      "Downloading langchain_anthropic-0.3.0-py3-none-any.whl (22 kB)\n",
      "Downloading tavily_python-0.5.0-py3-none-any.whl (14 kB)\n",
      "Downloading langgraph_checkpoint_sqlite-2.0.1-py3-none-any.whl (12 kB)\n",
      "Downloading aiosqlite-0.20.0-py3-none-any.whl (15 kB)\n",
      "Downloading anthropic-0.40.0-py3-none-any.whl (199 kB)\n",
      "Downloading dataclasses_json-0.6.7-py3-none-any.whl (28 kB)\n",
      "Downloading httpx_sse-0.4.0-py3-none-any.whl (7.8 kB)\n",
      "Downloading langchain-0.3.12-py3-none-any.whl (1.0 MB)\n",
      "   ---------------------------------------- 0.0/1.0 MB ? eta -:--:--\n",
      "   ---------------------------------------- 1.0/1.0 MB 24.1 MB/s eta 0:00:00\n",
      "Downloading pydantic_settings-2.7.0-py3-none-any.whl (29 kB)\n",
      "Downloading langchain_text_splitters-0.3.3-py3-none-any.whl (27 kB)\n",
      "Downloading marshmallow-3.23.1-py3-none-any.whl (49 kB)\n",
      "Downloading typing_inspect-0.9.0-py3-none-any.whl (8.8 kB)\n",
      "Installing collected packages: typing-inspect, marshmallow, httpx-sse, aiosqlite, dataclasses-json, tavily-python, pydantic-settings, anthropic, langchain-text-splitters, langchain-anthropic, langgraph-checkpoint-sqlite, langchain, langchain-community\n",
      "Successfully installed aiosqlite-0.20.0 anthropic-0.40.0 dataclasses-json-0.6.7 httpx-sse-0.4.0 langchain-0.3.12 langchain-anthropic-0.3.0 langchain-community-0.3.12 langchain-text-splitters-0.3.3 langgraph-checkpoint-sqlite-2.0.1 marshmallow-3.23.1 pydantic-settings-2.7.0 tavily-python-0.5.0 typing-inspect-0.9.0\n",
      "Note: you may need to restart the kernel to use updated packages.\n"
     ]
    }
   ],
   "source": [
    "%pip install -U langchain-community langgraph langchain-anthropic tavily-python langgraph-checkpoint-sqlite"
   ]
  },
  {
   "cell_type": "code",
   "execution_count": 3,
   "metadata": {},
   "outputs": [],
   "source": [
    "import getpass\n",
    "import os\n",
    "\n",
    "os.environ[\"TAVILY_API_KEY\"] = getpass.getpass()"
   ]
  },
  {
   "cell_type": "code",
   "execution_count": 4,
   "metadata": {},
   "outputs": [
    {
     "name": "stdout",
     "output_type": "stream",
     "text": [
      "[{'url': 'https://www.weatherapi.com/', 'content': \"{'location': {'name': 'San Francisco', 'region': 'California', 'country': 'United States of America', 'lat': 37.775, 'lon': -122.4183, 'tz_id': 'America/Los_Angeles', 'localtime_epoch': 1734355274, 'localtime': '2024-12-16 05:21'}, 'current': {'last_updated_epoch': 1734354900, 'last_updated': '2024-12-16 05:15', 'temp_c': 6.7, 'temp_f': 44.1, 'is_day': 0, 'condition': {'text': 'Partly cloudy', 'icon': '//cdn.weatherapi.com/weather/64x64/night/116.png', 'code': 1003}, 'wind_mph': 5.8, 'wind_kph': 9.4, 'wind_degree': 156, 'wind_dir': 'SSE', 'pressure_mb': 1021.0, 'pressure_in': 30.14, 'precip_mm': 0.0, 'precip_in': 0.0, 'humidity': 89, 'cloud': 75, 'feelslike_c': 4.8, 'feelslike_f': 40.7, 'windchill_c': 8.3, 'windchill_f': 46.9, 'heatindex_c': 9.5, 'heatindex_f': 49.1, 'dewpoint_c': 9.3, 'dewpoint_f': 48.7, 'vis_km': 16.0, 'vis_miles': 9.0, 'uv': 0.0, 'gust_mph': 9.6, 'gust_kph': 15.5}}\"}, {'url': 'https://weathershogun.com/weather/usa/ca/san-francisco/480/december/2024-12-16', 'content': \"San Francisco, CA - Weather Forecast Today San Francisco, CA Home Contact Browse States Privacy Policy Terms and Conditions °F) °C) Today Tomorrow Hourly 7 days 30 days December Today | Weather | Monday, December 16, 2024 Coastal Flood Advisory (Coastal flooding expected; possible impacts on shore areas due to tides or winds) San Francisco, California. 46° F Feels Like 45° Precipitation 7 % Wind 6 mph Humidity 90 % Today Day 55° Night 48° Precipitation 90 % Wind 8 mph UV Index (0 - 11+) 1 San Francisco Weather Forecast Updated Last updated on December 16, 2024 12:30 AM Hourly Tomorrow 7 days 30 days Weather Forecast History Last Year's Weather on This Day (December 16, 2023) Day 64° Night 48°\"}]\n"
     ]
    }
   ],
   "source": [
    "from langchain_community.tools.tavily_search import TavilySearchResults\n",
    "\n",
    "search = TavilySearchResults(max_results=2)\n",
    "search_results = search.invoke(\"what is the weather in SF\")\n",
    "print(search_results)\n",
    "# If we want, we can create other tools.\n",
    "# Once we have all the tools we want, we can put them in a list that we will reference later.\n",
    "tools = [search]"
   ]
  },
  {
   "cell_type": "code",
   "execution_count": 7,
   "metadata": {},
   "outputs": [],
   "source": [
    "import getpass\n",
    "import os\n",
    "\n",
    "if not os.environ.get(\"OPENAI_API_KEY\"):\n",
    "  os.environ[\"OPENAI_API_KEY\"] = getpass.getpass(\"Enter API key for OpenAI: \")\n",
    "\n",
    "from langchain_openai import ChatOpenAI\n",
    "\n",
    "model = ChatOpenAI(model=\"gpt-4o-mini\",base_url=\"https://aihubmix.com/v1\")"
   ]
  },
  {
   "cell_type": "code",
   "execution_count": 8,
   "metadata": {},
   "outputs": [
    {
     "data": {
      "text/plain": [
       "'Hello! How can I assist you today?'"
      ]
     },
     "execution_count": 8,
     "metadata": {},
     "output_type": "execute_result"
    }
   ],
   "source": [
    "from langchain_core.messages import HumanMessage\n",
    "\n",
    "response = model.invoke([HumanMessage(content=\"hi!\")])\n",
    "response.content"
   ]
  },
  {
   "cell_type": "code",
   "execution_count": 9,
   "metadata": {},
   "outputs": [],
   "source": [
    "model_with_tools = model.bind_tools(tools)"
   ]
  },
  {
   "cell_type": "code",
   "execution_count": 10,
   "metadata": {},
   "outputs": [
    {
     "name": "stdout",
     "output_type": "stream",
     "text": [
      "ContentString: Hello! How can I assist you today?\n",
      "ToolCalls: []\n"
     ]
    }
   ],
   "source": [
    "response = model_with_tools.invoke([HumanMessage(content=\"Hi!\")])\n",
    "\n",
    "print(f\"ContentString: {response.content}\")\n",
    "print(f\"ToolCalls: {response.tool_calls}\")"
   ]
  },
  {
   "cell_type": "code",
   "execution_count": 11,
   "metadata": {},
   "outputs": [
    {
     "name": "stdout",
     "output_type": "stream",
     "text": [
      "ContentString: \n",
      "ToolCalls: [{'name': 'tavily_search_results_json', 'args': {'query': 'San Francisco weather'}, 'id': 'call_hOUIT1wH9Fomhe0QxikFEtVO', 'type': 'tool_call'}]\n"
     ]
    }
   ],
   "source": [
    "response = model_with_tools.invoke([HumanMessage(content=\"What's the weather in SF?\")])\n",
    "\n",
    "print(f\"ContentString: {response.content}\")\n",
    "print(f\"ToolCalls: {response.tool_calls}\")"
   ]
  },
  {
   "cell_type": "code",
   "execution_count": 12,
   "metadata": {},
   "outputs": [],
   "source": [
    "from langgraph.prebuilt import create_react_agent\n",
    "\n",
    "agent_executor = create_react_agent(model, tools)"
   ]
  },
  {
   "cell_type": "code",
   "execution_count": 13,
   "metadata": {},
   "outputs": [
    {
     "data": {
      "text/plain": [
       "[HumanMessage(content='hi!', additional_kwargs={}, response_metadata={}, id='f9e457a1-5a95-4c56-b5f4-5609cc904124'),\n",
       " AIMessage(content='Hello! How can I assist you today?', additional_kwargs={'refusal': None}, response_metadata={'token_usage': {'completion_tokens': 10, 'prompt_tokens': 81, 'total_tokens': 91, 'completion_tokens_details': {'accepted_prediction_tokens': 0, 'audio_tokens': 0, 'reasoning_tokens': 0, 'rejected_prediction_tokens': 0}, 'prompt_tokens_details': {'audio_tokens': 0, 'cached_tokens': 0}}, 'model_name': 'gpt-4o-mini-2024-07-18', 'system_fingerprint': 'fp_6fc10e10eb', 'finish_reason': 'stop', 'logprobs': None}, id='run-96783a79-4d2a-4553-b143-f0fdf57c6876-0', usage_metadata={'input_tokens': 81, 'output_tokens': 10, 'total_tokens': 91, 'input_token_details': {'audio': 0, 'cache_read': 0}, 'output_token_details': {'audio': 0, 'reasoning': 0}})]"
      ]
     },
     "execution_count": 13,
     "metadata": {},
     "output_type": "execute_result"
    }
   ],
   "source": [
    "response = agent_executor.invoke({\"messages\": [HumanMessage(content=\"hi!\")]})\n",
    "\n",
    "response[\"messages\"]"
   ]
  },
  {
   "cell_type": "code",
   "execution_count": 14,
   "metadata": {},
   "outputs": [
    {
     "data": {
      "text/plain": [
       "[HumanMessage(content='whats the weather in sf?', additional_kwargs={}, response_metadata={}, id='444f4576-f9ad-467f-acbc-7f77de96dddb'),\n",
       " AIMessage(content='', additional_kwargs={'tool_calls': [{'id': 'call_lIpEqTql3fV11Emm3qkj8K4f', 'function': {'arguments': '{\"query\":\"current weather in San Francisco\"}', 'name': 'tavily_search_results_json'}, 'type': 'function'}], 'refusal': None}, response_metadata={'token_usage': {'completion_tokens': 22, 'prompt_tokens': 86, 'total_tokens': 108, 'completion_tokens_details': {'accepted_prediction_tokens': 0, 'audio_tokens': 0, 'reasoning_tokens': 0, 'rejected_prediction_tokens': 0}, 'prompt_tokens_details': {'audio_tokens': 0, 'cached_tokens': 0}}, 'model_name': 'gpt-4o-mini-2024-07-18', 'system_fingerprint': 'fp_6fc10e10eb', 'finish_reason': 'tool_calls', 'logprobs': None}, id='run-313ae532-82f4-41e6-b626-6673504e3423-0', tool_calls=[{'name': 'tavily_search_results_json', 'args': {'query': 'current weather in San Francisco'}, 'id': 'call_lIpEqTql3fV11Emm3qkj8K4f', 'type': 'tool_call'}], usage_metadata={'input_tokens': 86, 'output_tokens': 22, 'total_tokens': 108, 'input_token_details': {'audio': 0, 'cache_read': 0}, 'output_token_details': {'audio': 0, 'reasoning': 0}}),\n",
       " ToolMessage(content='[{\"url\": \"https://www.weatherapi.com/\", \"content\": \"{\\'location\\': {\\'name\\': \\'San Francisco\\', \\'region\\': \\'California\\', \\'country\\': \\'United States of America\\', \\'lat\\': 37.775, \\'lon\\': -122.4183, \\'tz_id\\': \\'America/Los_Angeles\\', \\'localtime_epoch\\': 1734355631, \\'localtime\\': \\'2024-12-16 05:27\\'}, \\'current\\': {\\'last_updated_epoch\\': 1734354900, \\'last_updated\\': \\'2024-12-16 05:15\\', \\'temp_c\\': 6.7, \\'temp_f\\': 44.1, \\'is_day\\': 0, \\'condition\\': {\\'text\\': \\'Partly cloudy\\', \\'icon\\': \\'//cdn.weatherapi.com/weather/64x64/night/116.png\\', \\'code\\': 1003}, \\'wind_mph\\': 5.8, \\'wind_kph\\': 9.4, \\'wind_degree\\': 156, \\'wind_dir\\': \\'SSE\\', \\'pressure_mb\\': 1021.0, \\'pressure_in\\': 30.14, \\'precip_mm\\': 0.0, \\'precip_in\\': 0.0, \\'humidity\\': 89, \\'cloud\\': 75, \\'feelslike_c\\': 4.8, \\'feelslike_f\\': 40.7, \\'windchill_c\\': 8.3, \\'windchill_f\\': 46.9, \\'heatindex_c\\': 9.5, \\'heatindex_f\\': 49.1, \\'dewpoint_c\\': 9.3, \\'dewpoint_f\\': 48.7, \\'vis_km\\': 16.0, \\'vis_miles\\': 9.0, \\'uv\\': 0.0, \\'gust_mph\\': 9.6, \\'gust_kph\\': 15.5}}\"}, {\"url\": \"https://www.weather25.com/north-america/usa/california/san-francisco?page=month&month=December\", \"content\": \"San Francisco weather in December 2024 | Weather25.com San Francisco weather in December 2024 | San Francisco in December | Temperatures in San Francisco in December Weather in San Francisco in December - FAQ The average temperature in San Francisco in December is 8/14° C. On average, there are 4 rainy days in San Francisco during December. Weather wise, is December a good time to visit San Francisco? The weather in San Francisco in December is good. On average, there are 0 snowy days in San Francisco in December. More about the weather in San Francisco San Francisco 14 day weather Long range weather for San Francisco San Francisco weather in November San Francisco Webcam Weather tomorrow Hotels in San Francisco\"}]', name='tavily_search_results_json', id='f80dab28-2941-4448-bc67-df460f9e5e3a', tool_call_id='call_lIpEqTql3fV11Emm3qkj8K4f', artifact={'query': 'current weather in San Francisco', 'follow_up_questions': None, 'answer': None, 'images': [], 'results': [{'title': 'Weather in San Francisco', 'url': 'https://www.weatherapi.com/', 'content': \"{'location': {'name': 'San Francisco', 'region': 'California', 'country': 'United States of America', 'lat': 37.775, 'lon': -122.4183, 'tz_id': 'America/Los_Angeles', 'localtime_epoch': 1734355631, 'localtime': '2024-12-16 05:27'}, 'current': {'last_updated_epoch': 1734354900, 'last_updated': '2024-12-16 05:15', 'temp_c': 6.7, 'temp_f': 44.1, 'is_day': 0, 'condition': {'text': 'Partly cloudy', 'icon': '//cdn.weatherapi.com/weather/64x64/night/116.png', 'code': 1003}, 'wind_mph': 5.8, 'wind_kph': 9.4, 'wind_degree': 156, 'wind_dir': 'SSE', 'pressure_mb': 1021.0, 'pressure_in': 30.14, 'precip_mm': 0.0, 'precip_in': 0.0, 'humidity': 89, 'cloud': 75, 'feelslike_c': 4.8, 'feelslike_f': 40.7, 'windchill_c': 8.3, 'windchill_f': 46.9, 'heatindex_c': 9.5, 'heatindex_f': 49.1, 'dewpoint_c': 9.3, 'dewpoint_f': 48.7, 'vis_km': 16.0, 'vis_miles': 9.0, 'uv': 0.0, 'gust_mph': 9.6, 'gust_kph': 15.5}}\", 'score': 0.9949753, 'raw_content': None}, {'title': 'San Francisco weather in December 2024 | Weather25.com', 'url': 'https://www.weather25.com/north-america/usa/california/san-francisco?page=month&month=December', 'content': 'San Francisco weather in December 2024 | Weather25.com San Francisco weather in December 2024 | San Francisco in December | Temperatures in San Francisco in December Weather in San Francisco in December - FAQ The average temperature in San Francisco in December is 8/14° C. On average, there are 4 rainy days in San Francisco during December. Weather wise, is December a good time to visit San Francisco? The weather in San Francisco in December is good. On average, there are 0 snowy days in San Francisco in December. More about the weather in San Francisco San Francisco 14 day weather Long range weather for San Francisco San Francisco weather in November San Francisco Webcam Weather tomorrow Hotels in San Francisco', 'score': 0.99338466, 'raw_content': None}], 'response_time': 3.29}),\n",
       " AIMessage(content='The current weather in San Francisco is as follows:\\n\\n- **Temperature**: 6.7°C (44.1°F)\\n- **Condition**: Partly cloudy\\n- **Wind**: 5.8 mph (9.4 kph) from the SSE\\n- **Humidity**: 89%\\n- **Visibility**: 16 km (9 miles)\\n- **Feels Like**: 4.8°C (40.7°F)\\n\\nFor more detailed forecasts, you can visit [WeatherAPI](https://www.weatherapi.com/) or [Weather25](https://www.weather25.com/north-america/usa/california/san-francisco?page=month&month=December).', additional_kwargs={'refusal': None}, response_metadata={'token_usage': {'completion_tokens': 145, 'prompt_tokens': 706, 'total_tokens': 851, 'completion_tokens_details': {'accepted_prediction_tokens': 0, 'audio_tokens': 0, 'reasoning_tokens': 0, 'rejected_prediction_tokens': 0}, 'prompt_tokens_details': {'audio_tokens': 0, 'cached_tokens': 0}}, 'model_name': 'gpt-4o-mini-2024-07-18', 'system_fingerprint': 'fp_6fc10e10eb', 'finish_reason': 'stop', 'logprobs': None}, id='run-ecc898e3-f004-4d12-8418-0836864151bf-0', usage_metadata={'input_tokens': 706, 'output_tokens': 145, 'total_tokens': 851, 'input_token_details': {'audio': 0, 'cache_read': 0}, 'output_token_details': {'audio': 0, 'reasoning': 0}})]"
      ]
     },
     "execution_count": 14,
     "metadata": {},
     "output_type": "execute_result"
    }
   ],
   "source": [
    "response = agent_executor.invoke(\n",
    "    {\"messages\": [HumanMessage(content=\"whats the weather in sf?\")]}\n",
    ")\n",
    "response[\"messages\"]"
   ]
  },
  {
   "cell_type": "code",
   "execution_count": 15,
   "metadata": {},
   "outputs": [
    {
     "name": "stdout",
     "output_type": "stream",
     "text": [
      "{'agent': {'messages': [AIMessage(content='', additional_kwargs={'tool_calls': [{'id': 'call_0e0Vi2U5t370V9MFsEnJwrwH', 'function': {'arguments': '{\"query\":\"current weather in San Francisco\"}', 'name': 'tavily_search_results_json'}, 'type': 'function'}], 'refusal': None}, response_metadata={'token_usage': {'completion_tokens': 22, 'prompt_tokens': 86, 'total_tokens': 108, 'completion_tokens_details': {'accepted_prediction_tokens': 0, 'audio_tokens': 0, 'reasoning_tokens': 0, 'rejected_prediction_tokens': 0}, 'prompt_tokens_details': {'audio_tokens': 0, 'cached_tokens': 0}}, 'model_name': 'gpt-4o-mini-2024-07-18', 'system_fingerprint': 'fp_6fc10e10eb', 'finish_reason': 'tool_calls', 'logprobs': None}, id='run-9e75b883-3b07-40b9-97ef-f541ea9f7f0b-0', tool_calls=[{'name': 'tavily_search_results_json', 'args': {'query': 'current weather in San Francisco'}, 'id': 'call_0e0Vi2U5t370V9MFsEnJwrwH', 'type': 'tool_call'}], usage_metadata={'input_tokens': 86, 'output_tokens': 22, 'total_tokens': 108, 'input_token_details': {'audio': 0, 'cache_read': 0}, 'output_token_details': {'audio': 0, 'reasoning': 0}})]}}\n",
      "----\n",
      "{'tools': {'messages': [ToolMessage(content='[{\"url\": \"https://www.weatherapi.com/\", \"content\": \"{\\'location\\': {\\'name\\': \\'San Francisco\\', \\'region\\': \\'California\\', \\'country\\': \\'United States of America\\', \\'lat\\': 37.775, \\'lon\\': -122.4183, \\'tz_id\\': \\'America/Los_Angeles\\', \\'localtime_epoch\\': 1734355631, \\'localtime\\': \\'2024-12-16 05:27\\'}, \\'current\\': {\\'last_updated_epoch\\': 1734354900, \\'last_updated\\': \\'2024-12-16 05:15\\', \\'temp_c\\': 6.7, \\'temp_f\\': 44.1, \\'is_day\\': 0, \\'condition\\': {\\'text\\': \\'Partly cloudy\\', \\'icon\\': \\'//cdn.weatherapi.com/weather/64x64/night/116.png\\', \\'code\\': 1003}, \\'wind_mph\\': 5.8, \\'wind_kph\\': 9.4, \\'wind_degree\\': 156, \\'wind_dir\\': \\'SSE\\', \\'pressure_mb\\': 1021.0, \\'pressure_in\\': 30.14, \\'precip_mm\\': 0.0, \\'precip_in\\': 0.0, \\'humidity\\': 89, \\'cloud\\': 75, \\'feelslike_c\\': 4.8, \\'feelslike_f\\': 40.7, \\'windchill_c\\': 8.3, \\'windchill_f\\': 46.9, \\'heatindex_c\\': 9.5, \\'heatindex_f\\': 49.1, \\'dewpoint_c\\': 9.3, \\'dewpoint_f\\': 48.7, \\'vis_km\\': 16.0, \\'vis_miles\\': 9.0, \\'uv\\': 0.0, \\'gust_mph\\': 9.6, \\'gust_kph\\': 15.5}}\"}, {\"url\": \"https://forecast.weather.gov/MapClick.php?lat=37.7800771&lon=-122.4201615\", \"content\": \"Current conditions at SAN FRANCISCO DOWNTOWN (SFOC1) Lat: 37.77056°NLon: 122.42694°WElev: 150.0ft. NA. 52°F. 11°C. ... San Francisco CA 37.77°N 122.41°W (Elev. 131 ft) Last Update: 2:33 pm PST Dec 11, 2024. Forecast Valid: 12am PST Dec 12, 2024-6pm PST Dec 18, 2024 . Forecast Discussion . Additional Resources. Radar & Satellite Image\"}]', name='tavily_search_results_json', id='11dde9a6-6481-466d-8806-34ee0486d2a4', tool_call_id='call_0e0Vi2U5t370V9MFsEnJwrwH', artifact={'query': 'current weather in San Francisco', 'follow_up_questions': None, 'answer': None, 'images': [], 'results': [{'title': 'Weather in San Francisco', 'url': 'https://www.weatherapi.com/', 'content': \"{'location': {'name': 'San Francisco', 'region': 'California', 'country': 'United States of America', 'lat': 37.775, 'lon': -122.4183, 'tz_id': 'America/Los_Angeles', 'localtime_epoch': 1734355631, 'localtime': '2024-12-16 05:27'}, 'current': {'last_updated_epoch': 1734354900, 'last_updated': '2024-12-16 05:15', 'temp_c': 6.7, 'temp_f': 44.1, 'is_day': 0, 'condition': {'text': 'Partly cloudy', 'icon': '//cdn.weatherapi.com/weather/64x64/night/116.png', 'code': 1003}, 'wind_mph': 5.8, 'wind_kph': 9.4, 'wind_degree': 156, 'wind_dir': 'SSE', 'pressure_mb': 1021.0, 'pressure_in': 30.14, 'precip_mm': 0.0, 'precip_in': 0.0, 'humidity': 89, 'cloud': 75, 'feelslike_c': 4.8, 'feelslike_f': 40.7, 'windchill_c': 8.3, 'windchill_f': 46.9, 'heatindex_c': 9.5, 'heatindex_f': 49.1, 'dewpoint_c': 9.3, 'dewpoint_f': 48.7, 'vis_km': 16.0, 'vis_miles': 9.0, 'uv': 0.0, 'gust_mph': 9.6, 'gust_kph': 15.5}}\", 'score': 0.9905699, 'raw_content': None}, {'title': 'National Weather Service', 'url': 'https://forecast.weather.gov/MapClick.php?lat=37.7800771&lon=-122.4201615', 'content': 'Current conditions at SAN FRANCISCO DOWNTOWN (SFOC1) Lat: 37.77056°NLon: 122.42694°WElev: 150.0ft. NA. 52°F. 11°C. ... San Francisco CA 37.77°N 122.41°W (Elev. 131 ft) Last Update: 2:33 pm PST Dec 11, 2024. Forecast Valid: 12am PST Dec 12, 2024-6pm PST Dec 18, 2024 . Forecast Discussion . Additional Resources. Radar & Satellite Image', 'score': 0.984516, 'raw_content': None}], 'response_time': 2.76})]}}\n",
      "----\n",
      "{'agent': {'messages': [AIMessage(content='The current weather in San Francisco is as follows:\\n\\n- **Temperature:** 6.7°C (44.1°F)\\n- **Condition:** Partly cloudy\\n- **Wind:** 5.8 mph (9.4 kph) coming from the SSE\\n- **Humidity:** 89%\\n- **Visibility:** 9.0 miles (16.0 km)\\n- **Pressure:** 1021.0 mb\\n\\nFor more details, you can check the [Weather API](https://www.weatherapi.com/) or [National Weather Service](https://forecast.weather.gov/MapClick.php?lat=37.7800771&lon=-122.4201615).', additional_kwargs={'refusal': None}, response_metadata={'token_usage': {'completion_tokens': 139, 'prompt_tokens': 690, 'total_tokens': 829, 'completion_tokens_details': {'accepted_prediction_tokens': 0, 'audio_tokens': 0, 'reasoning_tokens': 0, 'rejected_prediction_tokens': 0}, 'prompt_tokens_details': {'audio_tokens': 0, 'cached_tokens': 0}}, 'model_name': 'gpt-4o-mini-2024-07-18', 'system_fingerprint': 'fp_6fc10e10eb', 'finish_reason': 'stop', 'logprobs': None}, id='run-da7055b6-63e6-4a43-9537-4c5009ec3fb2-0', usage_metadata={'input_tokens': 690, 'output_tokens': 139, 'total_tokens': 829, 'input_token_details': {'audio': 0, 'cache_read': 0}, 'output_token_details': {'audio': 0, 'reasoning': 0}})]}}\n",
      "----\n"
     ]
    }
   ],
   "source": [
    "for chunk in agent_executor.stream(\n",
    "    {\"messages\": [HumanMessage(content=\"whats the weather in sf?\")]}\n",
    "):\n",
    "    print(chunk)\n",
    "    print(\"----\")"
   ]
  },
  {
   "cell_type": "code",
   "execution_count": 16,
   "metadata": {},
   "outputs": [
    {
     "name": "stdout",
     "output_type": "stream",
     "text": [
      "--\n",
      "Starting tool: tavily_search_results_json with inputs: {'query': 'current weather in San Francisco'}\n",
      "Done tool: tavily_search_results_json\n",
      "Tool output was: content='[{\"url\": \"https://www.weatherapi.com/\", \"content\": \"{\\'location\\': {\\'name\\': \\'San Francisco\\', \\'region\\': \\'California\\', \\'country\\': \\'United States of America\\', \\'lat\\': 37.775, \\'lon\\': -122.4183, \\'tz_id\\': \\'America/Los_Angeles\\', \\'localtime_epoch\\': 1734355631, \\'localtime\\': \\'2024-12-16 05:27\\'}, \\'current\\': {\\'last_updated_epoch\\': 1734354900, \\'last_updated\\': \\'2024-12-16 05:15\\', \\'temp_c\\': 6.7, \\'temp_f\\': 44.1, \\'is_day\\': 0, \\'condition\\': {\\'text\\': \\'Partly cloudy\\', \\'icon\\': \\'//cdn.weatherapi.com/weather/64x64/night/116.png\\', \\'code\\': 1003}, \\'wind_mph\\': 5.8, \\'wind_kph\\': 9.4, \\'wind_degree\\': 156, \\'wind_dir\\': \\'SSE\\', \\'pressure_mb\\': 1021.0, \\'pressure_in\\': 30.14, \\'precip_mm\\': 0.0, \\'precip_in\\': 0.0, \\'humidity\\': 89, \\'cloud\\': 75, \\'feelslike_c\\': 4.8, \\'feelslike_f\\': 40.7, \\'windchill_c\\': 8.3, \\'windchill_f\\': 46.9, \\'heatindex_c\\': 9.5, \\'heatindex_f\\': 49.1, \\'dewpoint_c\\': 9.3, \\'dewpoint_f\\': 48.7, \\'vis_km\\': 16.0, \\'vis_miles\\': 9.0, \\'uv\\': 0.0, \\'gust_mph\\': 9.6, \\'gust_kph\\': 15.5}}\"}, {\"url\": \"https://www.msn.com/en-us/weather/topstories/december-16-2024-san-francisco-bay-area-weather-forecast/vi-AA1vWWfl\", \"content\": \"KRON San Francisco. December 16, 2024 San Francisco Bay Area weather forecast. Posted: December 16, 2024 | Last updated: December 16, 2024. KRON4 Meteorologist John Shrable has the latest weather\"}]' name='tavily_search_results_json' tool_call_id='call_ElQZg83hl2QQ5lHAnHNCcPqD' artifact={'query': 'current weather in San Francisco', 'follow_up_questions': None, 'answer': None, 'images': [], 'results': [{'title': 'Weather in San Francisco', 'url': 'https://www.weatherapi.com/', 'content': \"{'location': {'name': 'San Francisco', 'region': 'California', 'country': 'United States of America', 'lat': 37.775, 'lon': -122.4183, 'tz_id': 'America/Los_Angeles', 'localtime_epoch': 1734355631, 'localtime': '2024-12-16 05:27'}, 'current': {'last_updated_epoch': 1734354900, 'last_updated': '2024-12-16 05:15', 'temp_c': 6.7, 'temp_f': 44.1, 'is_day': 0, 'condition': {'text': 'Partly cloudy', 'icon': '//cdn.weatherapi.com/weather/64x64/night/116.png', 'code': 1003}, 'wind_mph': 5.8, 'wind_kph': 9.4, 'wind_degree': 156, 'wind_dir': 'SSE', 'pressure_mb': 1021.0, 'pressure_in': 30.14, 'precip_mm': 0.0, 'precip_in': 0.0, 'humidity': 89, 'cloud': 75, 'feelslike_c': 4.8, 'feelslike_f': 40.7, 'windchill_c': 8.3, 'windchill_f': 46.9, 'heatindex_c': 9.5, 'heatindex_f': 49.1, 'dewpoint_c': 9.3, 'dewpoint_f': 48.7, 'vis_km': 16.0, 'vis_miles': 9.0, 'uv': 0.0, 'gust_mph': 9.6, 'gust_kph': 15.5}}\", 'score': 0.9988115, 'raw_content': None}, {'title': 'December 16, 2024 San Francisco Bay Area weather forecast - MSN', 'url': 'https://www.msn.com/en-us/weather/topstories/december-16-2024-san-francisco-bay-area-weather-forecast/vi-AA1vWWfl', 'content': 'KRON San Francisco. December 16, 2024 San Francisco Bay Area weather forecast. Posted: December 16, 2024 | Last updated: December 16, 2024. KRON4 Meteorologist John Shrable has the latest weather', 'score': 0.9961755, 'raw_content': None}], 'response_time': 2.28}\n",
      "--\n",
      "The| current| weather| in| San| Francisco| is| as| follows|:\n",
      "\n",
      "|-| **|Temperature|**|:| |6|.|7|°C| (|44|.|1|°F|)\n",
      "|-| **|Condition|**|:| Part|ly| cloudy|\n",
      "|-| **|Humidity|**|:| |89|%\n",
      "|-| **|Wind|**|:| |5|.|8| mph| (|9|.|4| k|ph|)| from| the| SSE|\n",
      "|-| **|Pressure|**|:| |102|1| mb|\n",
      "|-| **|Visibility|**|:| |16| km| (|9| miles|)\n",
      "\n",
      "|For| more| detailed| updates|,| you| can| check| out| the| full| forecast| [|here|](|https|://|www|.weather|api|.com|/)| or| [|here|](|https|://|www|.m|sn|.com|/en|-us|/weather|/top|stories|/|dec|ember|-|16|-|202|4|-san|-fr|anc|isco|-b|ay|-area|-weather|-|forecast|/|vi|-AA|1|v|WW|fl|).|"
     ]
    }
   ],
   "source": [
    "async for event in agent_executor.astream_events(\n",
    "    {\"messages\": [HumanMessage(content=\"whats the weather in sf?\")]}, version=\"v1\"\n",
    "):\n",
    "    kind = event[\"event\"]\n",
    "    if kind == \"on_chain_start\":\n",
    "        if (\n",
    "            event[\"name\"] == \"Agent\"\n",
    "        ):  # Was assigned when creating the agent with `.with_config({\"run_name\": \"Agent\"})`\n",
    "            print(\n",
    "                f\"Starting agent: {event['name']} with input: {event['data'].get('input')}\"\n",
    "            )\n",
    "    elif kind == \"on_chain_end\":\n",
    "        if (\n",
    "            event[\"name\"] == \"Agent\"\n",
    "        ):  # Was assigned when creating the agent with `.with_config({\"run_name\": \"Agent\"})`\n",
    "            print()\n",
    "            print(\"--\")\n",
    "            print(\n",
    "                f\"Done agent: {event['name']} with output: {event['data'].get('output')['output']}\"\n",
    "            )\n",
    "    if kind == \"on_chat_model_stream\":\n",
    "        content = event[\"data\"][\"chunk\"].content\n",
    "        if content:\n",
    "            # Empty content in the context of OpenAI means\n",
    "            # that the model is asking for a tool to be invoked.\n",
    "            # So we only print non-empty content\n",
    "            print(content, end=\"|\")\n",
    "    elif kind == \"on_tool_start\":\n",
    "        print(\"--\")\n",
    "        print(\n",
    "            f\"Starting tool: {event['name']} with inputs: {event['data'].get('input')}\"\n",
    "        )\n",
    "    elif kind == \"on_tool_end\":\n",
    "        print(f\"Done tool: {event['name']}\")\n",
    "        print(f\"Tool output was: {event['data'].get('output')}\")\n",
    "        print(\"--\")"
   ]
  },
  {
   "cell_type": "code",
   "execution_count": 17,
   "metadata": {},
   "outputs": [],
   "source": [
    "from langgraph.checkpoint.memory import MemorySaver\n",
    "\n",
    "memory = MemorySaver()"
   ]
  },
  {
   "cell_type": "code",
   "execution_count": 18,
   "metadata": {},
   "outputs": [],
   "source": [
    "agent_executor = create_react_agent(model, tools, checkpointer=memory)\n",
    "\n",
    "config = {\"configurable\": {\"thread_id\": \"abc123\"}}"
   ]
  },
  {
   "cell_type": "code",
   "execution_count": 19,
   "metadata": {},
   "outputs": [
    {
     "name": "stdout",
     "output_type": "stream",
     "text": [
      "{'agent': {'messages': [AIMessage(content='Hi Bob! How can I assist you today?', additional_kwargs={'refusal': None}, response_metadata={'token_usage': {'completion_tokens': 11, 'prompt_tokens': 83, 'total_tokens': 94, 'completion_tokens_details': {'accepted_prediction_tokens': 0, 'audio_tokens': 0, 'reasoning_tokens': 0, 'rejected_prediction_tokens': 0}, 'prompt_tokens_details': {'audio_tokens': 0, 'cached_tokens': 0}}, 'model_name': 'gpt-4o-mini-2024-07-18', 'system_fingerprint': 'fp_39a40c96a0', 'finish_reason': 'stop', 'logprobs': None}, id='run-75864864-6860-4041-af42-38a9eae2fa97-0', usage_metadata={'input_tokens': 83, 'output_tokens': 11, 'total_tokens': 94, 'input_token_details': {'audio': 0, 'cache_read': 0}, 'output_token_details': {'audio': 0, 'reasoning': 0}})]}}\n",
      "----\n"
     ]
    }
   ],
   "source": [
    "for chunk in agent_executor.stream(\n",
    "    {\"messages\": [HumanMessage(content=\"hi im bob!\")]}, config\n",
    "):\n",
    "    print(chunk)\n",
    "    print(\"----\")"
   ]
  },
  {
   "cell_type": "code",
   "execution_count": 20,
   "metadata": {},
   "outputs": [
    {
     "name": "stdout",
     "output_type": "stream",
     "text": [
      "{'agent': {'messages': [AIMessage(content='Your name is Bob! How can I help you today, Bob?', additional_kwargs={'refusal': None}, response_metadata={'token_usage': {'completion_tokens': 15, 'prompt_tokens': 106, 'total_tokens': 121, 'completion_tokens_details': {'accepted_prediction_tokens': 0, 'audio_tokens': 0, 'reasoning_tokens': 0, 'rejected_prediction_tokens': 0}, 'prompt_tokens_details': {'audio_tokens': 0, 'cached_tokens': 0}}, 'model_name': 'gpt-4o-mini-2024-07-18', 'system_fingerprint': 'fp_6fc10e10eb', 'finish_reason': 'stop', 'logprobs': None}, id='run-4a177307-6f5f-470a-981d-26b953665bde-0', usage_metadata={'input_tokens': 106, 'output_tokens': 15, 'total_tokens': 121, 'input_token_details': {'audio': 0, 'cache_read': 0}, 'output_token_details': {'audio': 0, 'reasoning': 0}})]}}\n",
      "----\n"
     ]
    }
   ],
   "source": [
    "for chunk in agent_executor.stream(\n",
    "    {\"messages\": [HumanMessage(content=\"whats my name?\")]}, config\n",
    "):\n",
    "    print(chunk)\n",
    "    print(\"----\")"
   ]
  },
  {
   "cell_type": "code",
   "execution_count": 21,
   "metadata": {},
   "outputs": [
    {
     "name": "stdout",
     "output_type": "stream",
     "text": [
      "{'agent': {'messages': [AIMessage(content=\"I don't have access to personal data about users unless it has been shared with me in the course of our conversation. Therefore, I don't know your name. If you'd like to share it or if there's something else you'd like to discuss, feel free to let me know!\", additional_kwargs={'refusal': None}, response_metadata={'token_usage': {'completion_tokens': 55, 'prompt_tokens': 84, 'total_tokens': 139, 'completion_tokens_details': {'accepted_prediction_tokens': 0, 'audio_tokens': 0, 'reasoning_tokens': 0, 'rejected_prediction_tokens': 0}, 'prompt_tokens_details': {'audio_tokens': 0, 'cached_tokens': 0}}, 'model_name': 'gpt-4o-mini-2024-07-18', 'system_fingerprint': 'fp_6fc10e10eb', 'finish_reason': 'stop', 'logprobs': None}, id='run-a52babec-62d0-4527-b267-8266bcb8fb08-0', usage_metadata={'input_tokens': 84, 'output_tokens': 55, 'total_tokens': 139, 'input_token_details': {'audio': 0, 'cache_read': 0}, 'output_token_details': {'audio': 0, 'reasoning': 0}})]}}\n",
      "----\n"
     ]
    }
   ],
   "source": [
    "config = {\"configurable\": {\"thread_id\": \"xyz123\"}}\n",
    "for chunk in agent_executor.stream(\n",
    "    {\"messages\": [HumanMessage(content=\"whats my name?\")]}, config\n",
    "):\n",
    "    print(chunk)\n",
    "    print(\"----\")"
   ]
  }
 ],
 "metadata": {
  "kernelspec": {
   "display_name": "base",
   "language": "python",
   "name": "python3"
  },
  "language_info": {
   "codemirror_mode": {
    "name": "ipython",
    "version": 3
   },
   "file_extension": ".py",
   "mimetype": "text/x-python",
   "name": "python",
   "nbconvert_exporter": "python",
   "pygments_lexer": "ipython3",
   "version": "3.12.7"
  }
 },
 "nbformat": 4,
 "nbformat_minor": 2
}
